{
 "cells": [
  {
   "cell_type": "markdown",
   "metadata": {},
   "source": [
    "# Aufgabe 1"
   ]
  },
  {
   "cell_type": "code",
   "execution_count": 4,
   "metadata": {},
   "outputs": [
    {
     "name": "stdout",
     "output_type": "stream",
     "text": [
      "Arithmetisches Mittel von Messreihe: 209.2683823529412\n",
      "Vertrauensintervall:  [201.52564338 217.28363971]\n"
     ]
    }
   ],
   "source": [
    "import numpy as np\n",
    "\n",
    "x = np.loadtxt(r\"C:/Users/lucar/Documents/Repo/Schule/STAT/oldfaithful.txt\")\n",
    "\n",
    "# Arithmetisches Mittel der Messreihe\n",
    "print('Arithmetisches Mittel von Messreihe:', x.mean())\n",
    "\n",
    "# Länge n der Messreihe methode_B\n",
    "n = x.size \n",
    "\n",
    "# Anzahl Bootstrap samples\n",
    "nboot = 1000\n",
    "\n",
    "# Bootstrap Sample wird aus Messreihe durch zufälliges \n",
    "# Ziehen mit Zurücklegen generiert\n",
    "bootstrap_sample = np.random.choice(x, n*nboot, replace=True)\n",
    "bootstrap_sample_arr = np.reshape(bootstrap_sample,(n, nboot))\n",
    "\n",
    "xbarstar = bootstrap_sample_arr.mean(axis=0)\n",
    "print('Vertrauensintervall: ', np.percentile(xbarstar, q=[2.5, 97.5]))\n"
   ]
  },
  {
   "cell_type": "markdown",
   "metadata": {},
   "source": [
    "b) mit Median"
   ]
  },
  {
   "cell_type": "code",
   "execution_count": 23,
   "metadata": {},
   "outputs": [
    {
     "name": "stdout",
     "output_type": "stream",
     "text": [
      "Median von Messreihe: 240.0\n",
      "Vertrauensintervall:  [230.  246.5]\n"
     ]
    }
   ],
   "source": [
    "import numpy as np\n",
    "\n",
    "x = np.loadtxt(r\"C:/Users/lucar/Documents/Repo/Schule/STAT/oldfaithful.txt\")\n",
    "\n",
    "# Arithmetisches Mittel der Messreihe\n",
    "print('Median von Messreihe:', np.median(x))\n",
    "\n",
    "# Länge n der Messreihe methode_B\n",
    "n = x.size \n",
    "\n",
    "# Anzahl Bootstrap samples\n",
    "nboot = 1000\n",
    "\n",
    "# Bootstrap Sample wird aus Messreihe durch zufälliges \n",
    "# Ziehen mit Zurücklegen generiert\n",
    "bootstrap_sample = np.random.choice(x, n*nboot, replace=True)\n",
    "bootstrap_sample_arr = np.reshape(bootstrap_sample,(n, nboot))\n",
    "\n",
    "xbarstar = np.median(bootstrap_sample_arr, axis=0)\n",
    "print('Vertrauensintervall: ', np.percentile(xbarstar, q=[2.5, 97.5]))"
   ]
  },
  {
   "cell_type": "markdown",
   "metadata": {},
   "source": [
    "c) gesucht P(|xm - u|>5) mit Bootstrap-Methode"
   ]
  },
  {
   "cell_type": "code",
   "execution_count": 39,
   "metadata": {},
   "outputs": [
    {
     "name": "stdout",
     "output_type": "stream",
     "text": [
      "P(|xm - u|>5) = 0.198 bzw. 19.8 %\n"
     ]
    }
   ],
   "source": [
    "import numpy as np\n",
    "\n",
    "x = np.loadtxt(r\"C:/Users/lucar/Documents/Repo/Schule/STAT/oldfaithful.txt\")\n",
    "\n",
    "\n",
    "# Länge n der Messreihe methode_B\n",
    "n = x.size \n",
    "\n",
    "# Anzahl Bootstrap samples\n",
    "nboot = 1000\n",
    "\n",
    "# Bootstrap Sample wird aus Messreihe durch zufälliges \n",
    "# Ziehen mit Zurücklegen generiert\n",
    "bootstrap_sample = np.random.choice(x, n*nboot, replace=True)\n",
    "bootstrap_sample_arr = np.reshape(bootstrap_sample,(n, nboot))\n",
    "\n",
    "u = np.median(x)\n",
    "xm = np.median(bootstrap_sample_arr, axis=0)\n",
    "\n",
    "h5 = np.sum((xm-u)>5)\n",
    "l5 = np.sum((xm-u)<-5)\n",
    "\n",
    "P = (h5+l5)/nboot\n",
    "print('P(|xm - u|>5) =', P, 'bzw.', P*100,'%')\n"
   ]
  },
  {
   "cell_type": "markdown",
   "metadata": {},
   "source": [
    "# Aufgabe 2"
   ]
  },
  {
   "cell_type": "markdown",
   "metadata": {},
   "source": [
    "c) ca. 5% der Punkte liegt ausserhalb der Grenzen (bei n=200 -> 10 Punkte)"
   ]
  },
  {
   "cell_type": "code",
   "execution_count": 19,
   "metadata": {},
   "outputs": [
    {
     "name": "stdout",
     "output_type": "stream",
     "text": [
      "9  Punkte liegen ausserhalb der Grenze\n"
     ]
    },
    {
     "data": {
      "image/png": "[encoded data removed]",
      "text/plain": [
       "<Figure size 432x288 with 1 Axes>"
      ]
     },
     "metadata": {
      "needs_background": "light"
     },
     "output_type": "display_data"
    }
   ],
   "source": [
    "from scipy.stats import uniform\n",
    "import matplotlib.pyplot as plt\n",
    "import numpy as np\n",
    "\n",
    "\n",
    "n = 60 # Anzahl Stichproben\n",
    "# X_1,...,X_n simulieren und in einer\n",
    "# n-spaltigen Matrix (mit 200 Zeilen) anordnen\n",
    "sim = uniform.rvs(size=200*n, loc=0, scale=10)\n",
    "sim = sim.reshape(200, n)\n",
    "#In jeder Matrixzeile Mittelwert berechnen\n",
    "sim_mean = sim.mean(axis=1)\n",
    "plt.plot(np.arange(1,201,1),sim_mean, 'o')\n",
    "plt.axhline(y=5.73, linewidth=2, color='b')\n",
    "plt.axhline(y=4.27, linewidth=2, color='b')\n",
    "\n",
    "print(np.sum(sim_mean < 4.27) + np.sum(sim_mean > 5.73),' Punkte liegen ausserhalb der Grenze')"
   ]
  },
  {
   "cell_type": "code",
   "execution_count": 20,
   "metadata": {},
   "outputs": [
    {
     "data": {
      "text/plain": [
       "((array([-2.70069508, -2.39117927, -2.21476595, -2.08844273, -1.98865134,\n",
       "         -1.90545091, -1.83366817, -1.77025272, -1.7132485 , -1.66132288,\n",
       "         -1.61352545, -1.56915347, -1.52767212, -1.48866446, -1.45179889,\n",
       "         -1.41680716, -1.38346902, -1.35160134, -1.32105008, -1.29168444,\n",
       "         -1.26339229, -1.23607681, -1.20965371, -1.18404921, -1.1591983 ,\n",
       "         -1.13504337, -1.11153314, -1.08862177, -1.06626803, -1.04443478,\n",
       "         -1.02308837, -1.00219826, -0.9817366 , -0.96167793, -0.94199891,\n",
       "         -0.9226781 , -0.90369573, -0.88503353, -0.86667459, -0.84860322,\n",
       "         -0.83080482, -0.8132658 , -0.79597346, -0.77891592, -0.76208206,\n",
       "         -0.74546144, -0.72904425, -0.71282124, -0.69678371, -0.68092342,\n",
       "         -0.6652326 , -0.64970389, -0.63433029, -0.61910517, -0.60402223,\n",
       "         -0.58907547, -0.57425918, -0.55956789, -0.5449964 , -0.53053972,\n",
       "         -0.51619308, -0.50195192, -0.48781183, -0.47376862, -0.45981823,\n",
       "         -0.44595676, -0.43218046, -0.41848569, -0.40486897, -0.39132691,\n",
       "         -0.37785624, -0.36445379, -0.35111649, -0.33784135, -0.3246255 ,\n",
       "         -0.3114661 , -0.29836042, -0.28530579, -0.2722996 , -0.25933932,\n",
       "         -0.24642245, -0.23354657, -0.2207093 , -0.20790829, -0.19514126,\n",
       "         -0.18240597, -0.16970019, -0.15702175, -0.1443685 , -0.13173832,\n",
       "         -0.11912912, -0.10653884, -0.09396542, -0.08140684, -0.06886109,\n",
       "         -0.05632616, -0.04380009, -0.03128088, -0.01876657, -0.0062552 ,\n",
       "          0.0062552 ,  0.01876657,  0.03128088,  0.04380009,  0.05632616,\n",
       "          0.06886109,  0.08140684,  0.09396542,  0.10653884,  0.11912912,\n",
       "          0.13173832,  0.1443685 ,  0.15702175,  0.16970019,  0.18240597,\n",
       "          0.19514126,  0.20790829,  0.2207093 ,  0.23354657,  0.24642245,\n",
       "          0.25933932,  0.2722996 ,  0.28530579,  0.29836042,  0.3114661 ,\n",
       "          0.3246255 ,  0.33784135,  0.35111649,  0.36445379,  0.37785624,\n",
       "          0.39132691,  0.40486897,  0.41848569,  0.43218046,  0.44595676,\n",
       "          0.45981823,  0.47376862,  0.48781183,  0.50195192,  0.51619308,\n",
       "          0.53053972,  0.5449964 ,  0.55956789,  0.57425918,  0.58907547,\n",
       "          0.60402223,  0.61910517,  0.63433029,  0.64970389,  0.6652326 ,\n",
       "          0.68092342,  0.69678371,  0.71282124,  0.72904425,  0.74546144,\n",
       "          0.76208206,  0.77891592,  0.79597346,  0.8132658 ,  0.83080482,\n",
       "          0.84860322,  0.86667459,  0.88503353,  0.90369573,  0.9226781 ,\n",
       "          0.94199891,  0.96167793,  0.9817366 ,  1.00219826,  1.02308837,\n",
       "          1.04443478,  1.06626803,  1.08862177,  1.11153314,  1.13504337,\n",
       "          1.1591983 ,  1.18404921,  1.20965371,  1.23607681,  1.26339229,\n",
       "          1.29168444,  1.32105008,  1.35160134,  1.38346902,  1.41680716,\n",
       "          1.45179889,  1.48866446,  1.52767212,  1.56915347,  1.61352545,\n",
       "          1.66132288,  1.7132485 ,  1.77025272,  1.83366817,  1.90545091,\n",
       "          1.98865134,  2.08844273,  2.21476595,  2.39117927,  2.70069508]),\n",
       "  array([3.98185662, 4.10304456, 4.13741968, 4.13972878, 4.23812947,\n",
       "         4.24315128, 4.28679622, 4.30455699, 4.32638959, 4.33149311,\n",
       "         4.33990301, 4.36858258, 4.37348356, 4.38043194, 4.38354311,\n",
       "         4.40946332, 4.4181211 , 4.42222369, 4.42270999, 4.44710001,\n",
       "         4.46879973, 4.47022098, 4.47106443, 4.47274453, 4.49562116,\n",
       "         4.50188704, 4.53167989, 4.542664  , 4.56661924, 4.57408803,\n",
       "         4.58485676, 4.58819637, 4.58974815, 4.59036373, 4.59562533,\n",
       "         4.59708967, 4.59989057, 4.60514208, 4.61484898, 4.63858661,\n",
       "         4.66389939, 4.66834189, 4.67267361, 4.68684206, 4.69395772,\n",
       "         4.69734252, 4.70128522, 4.72423363, 4.73293724, 4.7369872 ,\n",
       "         4.73773513, 4.7457722 , 4.75365772, 4.75652713, 4.75823911,\n",
       "         4.76897226, 4.77272162, 4.78692614, 4.8080265 , 4.80956195,\n",
       "         4.81023144, 4.81065927, 4.81462042, 4.81985402, 4.82341024,\n",
       "         4.82916088, 4.83282203, 4.83709837, 4.83925106, 4.84302678,\n",
       "         4.84478279, 4.84956557, 4.85135922, 4.85167712, 4.85689956,\n",
       "         4.8684562 , 4.87173393, 4.87539993, 4.87823334, 4.88001239,\n",
       "         4.88207622, 4.88292053, 4.88487184, 4.89462662, 4.89594167,\n",
       "         4.9094455 , 4.9200133 , 4.92062578, 4.93113937, 4.93164586,\n",
       "         4.93339665, 4.93852016, 4.94089994, 4.94118489, 4.94331637,\n",
       "         4.94485507, 4.94573505, 4.94636662, 4.94643631, 4.95195265,\n",
       "         4.962246  , 4.96328287, 4.96544347, 4.96597306, 4.967491  ,\n",
       "         4.9736661 , 4.97838022, 4.98064586, 4.98481401, 4.99259698,\n",
       "         5.00404148, 5.00501345, 5.01323004, 5.01730095, 5.01974902,\n",
       "         5.0199005 , 5.02135413, 5.0281702 , 5.0304755 , 5.06645503,\n",
       "         5.06719655, 5.06938226, 5.07403926, 5.07433161, 5.08003836,\n",
       "         5.08130874, 5.10068253, 5.10898056, 5.11012724, 5.11118413,\n",
       "         5.11548664, 5.11995714, 5.12853087, 5.13666036, 5.13697587,\n",
       "         5.14048133, 5.1485064 , 5.14935816, 5.15361901, 5.15442128,\n",
       "         5.16684546, 5.1716087 , 5.17745277, 5.18046981, 5.18811979,\n",
       "         5.18861702, 5.19393175, 5.19634217, 5.19855319, 5.2041229 ,\n",
       "         5.20911568, 5.21375145, 5.23329412, 5.23674687, 5.25846863,\n",
       "         5.2661681 , 5.27061022, 5.27172249, 5.27351102, 5.27555491,\n",
       "         5.28396194, 5.29078713, 5.29191516, 5.29308399, 5.29463809,\n",
       "         5.31149752, 5.33121382, 5.33242343, 5.34321439, 5.35338096,\n",
       "         5.3599056 , 5.36245805, 5.3680135 , 5.36886744, 5.39846365,\n",
       "         5.40665954, 5.4243229 , 5.42531024, 5.44562502, 5.47508781,\n",
       "         5.47573891, 5.51043621, 5.51162953, 5.51163018, 5.51419931,\n",
       "         5.52644884, 5.53463315, 5.55405644, 5.55799235, 5.56697518,\n",
       "         5.58414772, 5.59792572, 5.60421279, 5.60596077, 5.66021807,\n",
       "         5.66138878, 5.68518725, 5.73289675, 5.79025452, 5.97009192])),\n",
       " (0.37393832795976467, 4.965610454336283, 0.9984103112859195))"
      ]
     },
     "execution_count": 20,
     "metadata": {},
     "output_type": "execute_result"
    },
    {
     "data": {
      "image/png": "[encoded data removed]",
      "text/plain": [
       "<Figure size 432x288 with 1 Axes>"
      ]
     },
     "metadata": {
      "needs_background": "light"
     },
     "output_type": "display_data"
    }
   ],
   "source": [
    "from scipy.stats import probplot\n",
    "probplot(sim_mean, plot=plt)"
   ]
  },
  {
   "cell_type": "markdown",
   "metadata": {},
   "source": [
    "# Aufgabe 3"
   ]
  },
  {
   "cell_type": "markdown",
   "metadata": {},
   "source": [
    "a)"
   ]
  },
  {
   "cell_type": "code",
   "execution_count": 24,
   "metadata": {},
   "outputs": [
    {
     "data": {
      "text/plain": [
       "(26.112707522188142, 35.887292477811854)"
      ]
     },
     "execution_count": 24,
     "metadata": {},
     "output_type": "execute_result"
    }
   ],
   "source": [
    "import scipy.stats as st\n",
    "from scipy.stats import norm\n",
    "import numpy as np\n",
    "\n",
    "norm.interval(alpha=0.99, loc=31, scale=6/np.sqrt(10))"
   ]
  },
  {
   "cell_type": "markdown",
   "metadata": {},
   "source": [
    "b1) Wird das n 4-mal grösser gewählt, sollte die Breite sich halbieren."
   ]
  },
  {
   "cell_type": "code",
   "execution_count": 28,
   "metadata": {},
   "outputs": [
    {
     "name": "stdout",
     "output_type": "stream",
     "text": [
      "Die Breite von n = 10 beträgt  9.774584955623713 ; mit 4n die Breite =  4.8872924778118545\n"
     ]
    }
   ],
   "source": [
    "import scipy.stats as st\n",
    "from scipy.stats import norm\n",
    "import numpy as np\n",
    "\n",
    "n10 = norm.interval(alpha=0.99, loc=31, scale=6/np.sqrt(10))\n",
    "n40 = norm.interval(alpha=0.99, loc=31, scale=6/np.sqrt(40))\n",
    "diffn10 = n10[1] - n10[0]\n",
    "diffn40 = n40[1] - n40[0]\n",
    "print('Die Breite von n = 10 beträgt ', diffn10, '; mit 4n die Breite = ', diffn40)"
   ]
  },
  {
   "cell_type": "markdown",
   "metadata": {},
   "source": [
    "b2) Berechnung von z(1-a/2)"
   ]
  },
  {
   "cell_type": "code",
   "execution_count": 39,
   "metadata": {},
   "outputs": [
    {
     "data": {
      "text/plain": [
       "2.5758293035489004"
      ]
     },
     "execution_count": 39,
     "metadata": {},
     "output_type": "execute_result"
    }
   ],
   "source": [
    "z = norm.ppf(0.995)\n",
    "z"
   ]
  },
  {
   "cell_type": "code",
   "execution_count": 40,
   "metadata": {},
   "outputs": [
    {
     "data": {
      "text/plain": [
       "955.4251105470547"
      ]
     },
     "execution_count": 40,
     "metadata": {},
     "output_type": "execute_result"
    }
   ],
   "source": [
    "n = (2*z*6)*(2*z*6)\n",
    "n"
   ]
  },
  {
   "cell_type": "code",
   "execution_count": 42,
   "metadata": {},
   "outputs": [
    {
     "name": "stdout",
     "output_type": "stream",
     "text": [
      "(30.5, 31.5)\n",
      "Breite entspricht 1.0\n"
     ]
    }
   ],
   "source": [
    "intervall = norm.interval(alpha=0.99, loc=31, scale=6/np.sqrt(n))\n",
    "print(intervall)\n",
    "print('Breite entspricht', intervall[1]-intervall[0])"
   ]
  },
  {
   "cell_type": "markdown",
   "metadata": {},
   "source": [
    "c) Aufgabe a) mit der t-Verteilung da Standardabweichung geschätzt"
   ]
  },
  {
   "cell_type": "code",
   "execution_count": 45,
   "metadata": {},
   "outputs": [
    {
     "data": {
      "text/plain": [
       "(24.833870595963425, 37.166129404036575)"
      ]
     },
     "execution_count": 45,
     "metadata": {},
     "output_type": "execute_result"
    }
   ],
   "source": [
    "import scipy.stats as st\n",
    "from scipy.stats import t\n",
    "import numpy as np\n",
    "\n",
    "t.interval(alpha=0.99, df=9, loc=31, scale=6/np.sqrt(10))"
   ]
  }
 ],
 "metadata": {
  "anaconda-cloud": {},
  "kernelspec": {
   "display_name": "Python 3",
   "language": "python",
   "name": "python3"
  },
  "language_info": {
   "codemirror_mode": {
    "name": "ipython",
    "version": 3
   },
   "file_extension": ".py",
   "mimetype": "text/x-python",
   "name": "python",
   "nbconvert_exporter": "python",
   "pygments_lexer": "ipython3",
   "version": "3.7.0"
  }
 },
 "nbformat": 4,
 "nbformat_minor": 1
}
